{
 "cells": [
  {
   "cell_type": "code",
   "execution_count": 1,
   "id": "a7e5e00a",
   "metadata": {},
   "outputs": [],
   "source": [
    "import pandas as pd"
   ]
  },
  {
   "cell_type": "code",
   "execution_count": 5,
   "id": "736a0479",
   "metadata": {},
   "outputs": [],
   "source": [
    "df = pd.read_excel('c:\\\\Users\\\\Gur Levy\\\\Desktop\\\\UVA\\\\MASTER\\\\FUDS\\\\data_cts_violent_and_sexual_crime.xlsx')"
   ]
  },
  {
   "cell_type": "code",
   "execution_count": null,
   "id": "10eede09",
   "metadata": {},
   "outputs": [],
   "source": []
  }
 ],
 "metadata": {
  "kernelspec": {
   "display_name": "Python 3",
   "language": "python",
   "name": "python3"
  },
  "language_info": {
   "codemirror_mode": {
    "name": "ipython",
    "version": 3
   },
   "file_extension": ".py",
   "mimetype": "text/x-python",
   "name": "python",
   "nbconvert_exporter": "python",
   "pygments_lexer": "ipython3",
   "version": "3.10.11"
  }
 },
 "nbformat": 4,
 "nbformat_minor": 5
}
