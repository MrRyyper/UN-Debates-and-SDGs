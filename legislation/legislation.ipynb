{
 "cells": [
  {
   "cell_type": "markdown",
   "id": "a6fd0340",
   "metadata": {},
   "source": [
    "# Legislation datasets"
   ]
  },
  {
   "cell_type": "markdown",
   "id": "d120220b",
   "metadata": {},
   "source": [
    "### Dataset 1: domestic violence\n",
    "There is legislation specifically addressing domestic violence (1=yes; 0=no)\n",
    "Download: https://genderdata.worldbank.org/en/indicator/sg-leg-dvaw\n",
    "\n",
    "The indicator measures whether there is legislation addressing domestic violence that includes criminal sanctions or provides for protection orders for domestic violence, or the legislation addresses \"harassment\" that clearly leads to physical or mental harm in the context of domestic violence.\n",
    "(source: https://genderdata.worldbank.org/en/indicator/sg-leg-dvaw)"
   ]
  },
  {
   "cell_type": "code",
   "execution_count": null,
   "id": "94679a4b",
   "metadata": {},
   "outputs": [],
   "source": [
    "# -*- coding: utf-8 -*-\n",
    "\"\"\"\n",
    "Created on Fri Sep 26 10:29:02 2025\n",
    "\n",
    "@author: elske\n",
    "\"\"\"\n",
    "\n",
    "import pandas as pd\n",
    "\n",
    "# Loading the datasets\n",
    "\n",
    "import zipfile\n",
    "\n",
    "zip_path = r\".\\datasets\\there-is-legislation-specifically-addressing-domestic-violence-1-yes-0-no.zip\"\n",
    "dfs = []\n",
    "\n",
    "with zipfile.ZipFile(zip_path, 'r') as z:\n",
    "    print(\"Bestanden in ZIP:\", z.namelist())\n",
    "\n",
    "    for filename in z.namelist():\n",
    "        if filename.endswith(\".csv\"): \n",
    "            with z.open(filename) as f:\n",
    "                df = pd.read_csv(f)\n",
    "                df[\"source_file\"] = filename  \n",
    "                dfs.append(df)\n",
    "\n",
    "legis1 = pd.concat(dfs, ignore_index=True)\n",
    "\n",
    "print(legis1.head())"
   ]
  },
  {
   "cell_type": "markdown",
   "id": "0f21ea71",
   "metadata": {},
   "source": [
    "### Dataset 2: sexual harassment in employment\n",
    "Criminal penalties or civil remedies exist for sexual harassment in employment (1=yes; 0=no)\n",
    "Download: https://genderdata.worldbank.org/en/indicator/sg-pen-sxhr-em \n",
    "\n",
    "The indicator measures whether the law establishes criminal sanctions, such as fines or imprisonment, for sexual harassment in employment; if the provision in the criminal code provides for reparation of damages for offenses covered by the code; or if the law provides for civil remedies or compensation for victims of sexual harassment in employment or the workplace, even after dismissal of the victims.\n",
    "(source: https://genderdata.worldbank.org/en/indicator/sg-pen-sxhr-em \n"
   ]
  },
  {
   "cell_type": "code",
   "execution_count": null,
   "id": "8c6b71e4",
   "metadata": {},
   "outputs": [],
   "source": [
    "\n",
    "zip_path = r\".\\datasets\\SG.PEN.SXHR.EM.zip\"\n",
    "dfs = []\n",
    "\n",
    "with zipfile.ZipFile(zip_path, 'r') as z:\n",
    "    print(\"Bestanden in ZIP:\", z.namelist())\n",
    "\n",
    "    for filename in z.namelist():\n",
    "        if filename.endswith(\".csv\"): \n",
    "            with z.open(filename) as f:\n",
    "                df = pd.read_csv(f)\n",
    "                df[\"source_file\"] = filename  \n",
    "                dfs.append(df)\n",
    "\n",
    "legis2 = pd.concat(dfs, ignore_index=True)\n",
    "\n",
    "print(legis2.head())\n"
   ]
  },
  {
   "cell_type": "markdown",
   "id": "17c36406",
   "metadata": {},
   "source": [
    "### Background information:\n",
    "Both datasets cover the period from 1970 to 2023, with the data being collected after the end of each year. Therefore, data labeled as 2023 actually refers to the previous year, 2022. The datasets include data from almost all countries worldwide, with a few exceptions such as Greenland, Turkmenistan and North Korea. Both datasets share the same structure, consisting of columns like country names and codes, years, the specific topic and a binary indicator of its presence (1 = yes, 0 = no).\n"
   ]
  },
  {
   "cell_type": "markdown",
   "id": "0cdcf5c3",
   "metadata": {},
   "source": [
    "### Data preprocessing\n",
    "Since both datasets contained many columns with only missing data, we removed these columns. They were supposed to include information on definitions or general comments. For our analysis, removing these columns has no negative effect. In addition, the datasets contain a large amount of data related to topics that are not relevant to our analysis, such as water supply or mobile payments. All unnecessary data is removed from the datasets. To combine both topics of interest, the datasets were merged. Before this could be done, the column names of the binary outcomes were first renamed to reflect the corresponding topic and a selection was made of the columns to be analyzed. After merging the datasets, the resulting dataset contains 5 columns and 10,206 rows."
   ]
  },
  {
   "cell_type": "markdown",
   "id": "0b692ebf",
   "metadata": {},
   "source": [
    "##### Checking on missing data"
   ]
  },
  {
   "cell_type": "code",
   "execution_count": null,
   "id": "a14d4099",
   "metadata": {},
   "outputs": [],
   "source": [
    "\n",
    "print(legis1.isna().sum())\n",
    "print(legis2.isna().sum())\n",
    "\n",
    "# Deleting all columns that contain mostly missing data\n",
    "\n",
    "legis1_clean = legis1.dropna(axis=1, thresh=(len(legis1) - 10))\n",
    "  \n",
    "print(legis1_clean.shape)\n",
    "\n",
    "legis2_clean = legis2.dropna(axis=1, thresh=(len(legis1) - 10))\n",
    "  \n",
    "print(legis2_clean.shape)\n",
    "\n"
   ]
  },
  {
   "cell_type": "markdown",
   "id": "6d52d0f0",
   "metadata": {},
   "source": [
    "##### Deleting all unnecessary data"
   ]
  },
  {
   "cell_type": "code",
   "execution_count": null,
   "id": "524552bb",
   "metadata": {},
   "outputs": [],
   "source": [
    "\n",
    "\n",
    "legis1_clean = legis1_clean[legis1_clean[\"Indicator Name\"] == \n",
    "                \"There is legislation specifically addressing domestic violence (1=yes; 0=no)\"]\n",
    "\n",
    "print(legis1_clean.shape)\n",
    "print(legis1_clean[\"Indicator Name\"].unique())\n",
    "\n",
    "legis2_clean = legis2_clean[legis2_clean[\"Indicator Name\"] == \n",
    "                \"Criminal penalties or civil remedies exist for sexual harassment in employment (1=yes; 0=no)\"]\n",
    "\n",
    "print(legis2_clean.shape)\n",
    "print(legis2_clean[\"Indicator Name\"].unique())\n"
   ]
  },
  {
   "cell_type": "markdown",
   "id": "3cb1d684",
   "metadata": {},
   "source": [
    "##### Renaming Value columns to prepare for merging datasets"
   ]
  },
  {
   "cell_type": "code",
   "execution_count": null,
   "id": "8b25d0f5",
   "metadata": {},
   "outputs": [],
   "source": [
    "\n",
    "legis1_clean = legis1_clean.rename(columns={\"Value\" : \"Legislation Domestic Violence\"})\n",
    "\n",
    "legis2_clean = legis2_clean.rename(columns={\"Value\" : \"Legislation Sexual Harassment\"})"
   ]
  },
  {
   "cell_type": "markdown",
   "id": "cfac97cc",
   "metadata": {},
   "source": [
    "##### Selecting columns of interest for merging datasets"
   ]
  },
  {
   "cell_type": "code",
   "execution_count": null,
   "id": "3fedcac9",
   "metadata": {},
   "outputs": [],
   "source": [
    "\n",
    "legis1_clean = legis1_clean[[\"Country Name\", \"Country Code\", \"Year\", \"Legislation Domestic Violence\"]]\n",
    "\n",
    "legis2_clean = legis2_clean[[\"Country Name\", \"Country Code\", \"Year\", \"Legislation Sexual Harassment\"]]"
   ]
  },
  {
   "cell_type": "markdown",
   "id": "10f09eeb",
   "metadata": {},
   "source": [
    "##### Merging the datasets "
   ]
  },
  {
   "cell_type": "code",
   "execution_count": null,
   "id": "8b829036",
   "metadata": {},
   "outputs": [],
   "source": [
    "\n",
    " \n",
    "legis_merged = legis2_clean.merge(\n",
    "    legis1_clean[[\"Country Name\", \"Country Code\", \"Year\", \"Legislation Domestic Violence\"]],\n",
    "    on=[\"Country Code\", \"Year\", \"Country Name\"],\n",
    "    how=\"inner\")\n",
    "\n",
    "print(legis_merged.shape)\n",
    "print(legis_merged.head)\n",
    "print(legis_merged.isna().sum())\n",
    "\n",
    "legis_merged = legis_merged.dropna()\n",
    "print(legis_merged.shape)\n",
    "print(legis_merged.isna().sum())\n"
   ]
  }
 ],
 "metadata": {
  "kernelspec": {
   "display_name": "project-venv.venv (3.11.9)",
   "language": "python",
   "name": "python3"
  },
  "language_info": {
   "codemirror_mode": {
    "name": "ipython",
    "version": 3
   },
   "file_extension": ".py",
   "mimetype": "text/x-python",
   "name": "python",
   "nbconvert_exporter": "python",
   "pygments_lexer": "ipython3",
   "version": "3.11.9"
  }
 },
 "nbformat": 4,
 "nbformat_minor": 5
}
