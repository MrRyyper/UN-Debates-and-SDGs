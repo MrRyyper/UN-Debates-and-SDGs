{
 "cells": [
  {
   "cell_type": "markdown",
   "id": "a6fd0340",
   "metadata": {},
   "source": [
    "# Legislation datasets"
   ]
  },
  {
   "cell_type": "code",
   "execution_count": null,
   "id": "94679a4b",
   "metadata": {},
   "outputs": [],
   "source": [
    "# -*- coding: utf-8 -*-\n",
    "\"\"\"\n",
    "Created on Fri Sep 26 10:29:02 2025\n",
    "\n",
    "@author: elske\n",
    "\"\"\"\n",
    "\n",
    "import pandas as pd\n",
    "\n",
    "# Loading the datasets\n",
    "\n",
    "import zipfile\n",
    "\n",
    "zip_path = r\".\\datasets\\there-is-legislation-specifically-addressing-domestic-violence-1-yes-0-no.zip\"\n",
    "dfs = []\n",
    "\n",
    "with zipfile.ZipFile(zip_path, 'r') as z:\n",
    "    print(\"Bestanden in ZIP:\", z.namelist())\n",
    "\n",
    "    for filename in z.namelist():\n",
    "        if filename.endswith(\".csv\"): \n",
    "            with z.open(filename) as f:\n",
    "                df = pd.read_csv(f)\n",
    "                df[\"source_file\"] = filename  \n",
    "                dfs.append(df)\n",
    "\n",
    "legis1 = pd.concat(dfs, ignore_index=True)\n",
    "\n",
    "print(legis1.head())"
   ]
  },
  {
   "cell_type": "code",
   "execution_count": null,
   "id": "8c6b71e4",
   "metadata": {},
   "outputs": [],
   "source": [
    "\n",
    "zip_path = r\".\\datasets\\SG.PEN.SXHR.EM.zip\"\n",
    "dfs = []\n",
    "\n",
    "with zipfile.ZipFile(zip_path, 'r') as z:\n",
    "    print(\"Bestanden in ZIP:\", z.namelist())\n",
    "\n",
    "    for filename in z.namelist():\n",
    "        if filename.endswith(\".csv\"): \n",
    "            with z.open(filename) as f:\n",
    "                df = pd.read_csv(f)\n",
    "                df[\"source_file\"] = filename  \n",
    "                dfs.append(df)\n",
    "\n",
    "legis2 = pd.concat(dfs, ignore_index=True)\n",
    "\n",
    "print(legis2.head())\n"
   ]
  },
  {
   "cell_type": "code",
   "execution_count": null,
   "id": "d3f92579",
   "metadata": {},
   "outputs": [],
   "source": []
  },
  {
   "cell_type": "code",
   "execution_count": null,
   "id": "d278a2cf",
   "metadata": {},
   "outputs": [],
   "source": []
  }
 ],
 "metadata": {
  "kernelspec": {
   "display_name": "project-venv.venv (3.11.9)",
   "language": "python",
   "name": "python3"
  },
  "language_info": {
   "codemirror_mode": {
    "name": "ipython",
    "version": 3
   },
   "file_extension": ".py",
   "mimetype": "text/x-python",
   "name": "python",
   "nbconvert_exporter": "python",
   "pygments_lexer": "ipython3",
   "version": "3.11.9"
  }
 },
 "nbformat": 4,
 "nbformat_minor": 5
}
